{
 "cells": [
  {
   "cell_type": "code",
   "execution_count": 2,
   "metadata": {},
   "outputs": [],
   "source": [
    "## init object_explorer\n",
    "\n",
    "from datetime import datetime\n",
    "from uuid import uuid4\n",
    "import hmac\n",
    "import hashlib\n",
    "import base64\n",
    "import jaydebeapi\n",
    "from dotenv import dotenv_values\n",
    "import polars as pl\n",
    "env = dotenv_values(\"../.env\")\n",
    "\n",
    "query = \"\"\"\n",
    "   SELECT table_qualifier,\n",
    "          table_name,\n",
    "          remarks\n",
    "     FROM oa_tables AS T\n",
    "\"\"\"\n",
    "schema = { \"table_qualifier\": pl.Utf8, \"table_name\": pl.Utf8, \"remarks\": pl.Utf8 }\n",
    "\n",
    "# generate password\n",
    "timestamp = str(int(datetime.now().timestamp()))\n",
    "nonce = uuid4().hex\n",
    "\n",
    "base_string = \"&\".join((env[\"ACCOUNTID\"], env[\"CONSUMERKEY\"], env[\"TOKENID\"], nonce, timestamp))\n",
    "signature_key = \"&\".join((env[\"CONSUMERSECRET\"], env[\"TOKENSECRET\"]))\n",
    "\n",
    "signature = base64.b64encode(hmac.new(\n",
    "        signature_key.encode(),\n",
    "        base_string.encode(),\n",
    "        hashlib.sha256).digest()\n",
    "    ).decode()\n",
    "\n",
    "token_password = \"&\".join((base_string, signature, \"HMAC-SHA256\"))\n",
    "\n",
    "# make connection\n",
    "conn = jaydebeapi.connect(\n",
    "    \"com.netsuite.jdbc.openaccess.OpenAccessDriver\",\n",
    "    f'jdbc:ns://{env[\"ACCOUNTID\"]}.connect.api.netsuite.com:1708;ServerDataSource=NetSuite2.com;encrypted=1;NegotiateSSLClose=false;tcpKeepAlive=true;CustomProperties=(AccountID={env[\"ACCOUNTID\"]};RoleID={env[\"ROLEID\"]})',\n",
    "    [env[\"USER\"], token_password],\n",
    "    \"../NQjc.jar\"\n",
    "    )\n",
    "\n",
    "curs = conn.cursor()\n",
    "curs.execute(query)\n",
    "\n",
    "data=curs.fetchall()\n",
    "df = pl.DataFrame(data, schema=schema)\n",
    "df.write_parquet(f\"./object_explorer.parquet\")\n"
   ]
  }
 ],
 "metadata": {
  "kernelspec": {
   "display_name": "Python 3",
   "language": "python",
   "name": "python3"
  },
  "language_info": {
   "codemirror_mode": {
    "name": "ipython",
    "version": 3
   },
   "file_extension": ".py",
   "mimetype": "text/x-python",
   "name": "python",
   "nbconvert_exporter": "python",
   "pygments_lexer": "ipython3",
   "version": "3.10.13"
  }
 },
 "nbformat": 4,
 "nbformat_minor": 2
}
